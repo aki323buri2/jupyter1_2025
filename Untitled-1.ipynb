{
 "cells": [
  {
   "cell_type": "code",
   "execution_count": 3,
   "metadata": {},
   "outputs": [
    {
     "data": {
      "text/plain": [
       "[Path('D:/data/dev3/jupyter1_2025'),\n",
       " Path('D:/data/dev3/jupyter1_2025/files'),\n",
       " Path('D:/data/dev3/jupyter1_2025/lake'),\n",
       " Path('D:/data/dev3/jupyter1_2025/output')]"
      ]
     },
     "execution_count": 3,
     "metadata": {},
     "output_type": "execute_result"
    }
   ],
   "source": [
    "from utilities.common import * \n",
    "root, files, lake, output = (fullpath(x.strip()) for x in \"., files, lake, output\".split(COMMA))\n",
    "root, files, lake, output\n",
    "list(x.ensure_dir() for x in (root, files, lake, output))\n"
   ]
  }
 ],
 "metadata": {
  "kernelspec": {
   "display_name": ".venv",
   "language": "python",
   "name": "python3"
  },
  "language_info": {
   "codemirror_mode": {
    "name": "ipython",
    "version": 3
   },
   "file_extension": ".py",
   "mimetype": "text/x-python",
   "name": "python",
   "nbconvert_exporter": "python",
   "pygments_lexer": "ipython3",
   "version": "3.12.9"
  }
 },
 "nbformat": 4,
 "nbformat_minor": 2
}
